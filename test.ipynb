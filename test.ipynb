{
 "cells": [
  {
   "cell_type": "code",
   "execution_count": 1,
   "metadata": {},
   "outputs": [],
   "source": [
    "import numpy as np\n",
    "import pandas as pd\n",
    "\n",
    "import matplotlib.pyplot as plt\n",
    "import seaborn as sns\n",
    "\n",
    "from scipy import sparse\n",
    "\n",
    "from lib import *\n",
    "from classes import *\n",
    "\n",
    "from lightfm import LightFM\n",
    "from tqdm.notebook import tqdm\n",
    "tqdm.pandas()"
   ]
  },
  {
   "cell_type": "code",
   "execution_count": 2,
   "metadata": {},
   "outputs": [],
   "source": [
    "users, orgs, reviews = get_data('data/')\n",
    "train_reviews, test_reviews = train_test_split(reviews, 1166)\n",
    "X_test, y_test = process_reviews(test_reviews)"
   ]
  },
  {
   "cell_type": "code",
   "execution_count": 38,
   "metadata": {},
   "outputs": [],
   "source": [
    "def filter_min_pos_rating(reviews, orgs, min_pos_rating):\n",
    "    cr = reviews[['org_id', 'rating']]\n",
    "    cr = cr[cr['rating'] >= 4]\n",
    "    cr = cr.groupby('org_id').count().reset_index()\n",
    "    cr = cr[cr['rating'] >= min_pos_rating][['org_id']]\n",
    "    return orgs.merge(cr, on='org_id', how='inner'), reviews.merge(cr, on='org_id', how='inner')\n",
    "\n",
    "def get_other_city(city):\n",
    "        if city == 'msk':\n",
    "            return 'spb'\n",
    "        else:\n",
    "            return 'msk'\n",
    "\n",
    "class BaseLightFMSolver:\n",
    "    def __init__(self, users, orgs):\n",
    "        self.users = users\n",
    "        self.orgs = orgs\n",
    "        self.cities = ['msk', 'spb']\n",
    "        self.orgs_c = dict()\n",
    "        self.org_ctoi, self.org_itoc = create_mappings(self.orgs['org_id'])\n",
    "        self.user_ctoi, self.user_itoc = create_mappings(self.users['user_id'])\n",
    "    \n",
    "    def fit(self, reviews, min_pos_rating=1):\n",
    "        self.orgs, reviews = filter_min_pos_rating(reviews, self.orgs, min_pos_rating)\n",
    "        for city in self.cities:\n",
    "            self.orgs_c[city] = orgs[orgs['city'] == city]['org_id'].map(self.org_ctoi).values\n",
    "            \n",
    "        cd_reviews = reviews[['user_id', 'org_id', 'rating']].groupby(['user_id', 'org_id']).mean().reset_index()\n",
    "        cd_reviews['rating'] = cd_reviews['rating'].apply(lambda x: 1 if x >= 4 else -1)\n",
    "        I = cd_reviews['user_id'].map(self.user_ctoi)\n",
    "        J = cd_reviews['org_id'].map(self.org_ctoi)\n",
    "        X = cd_reviews['rating']\n",
    "        self.train = sparse.coo_matrix((X, (I, J)), shape=(max(self.user_itoc) + 1, max(self.org_itoc) + 1))\n",
    "        self.model = LightFM(loss='warp', learning_rate=0.01, no_components=10, item_alpha=5e-6, user_alpha=5e-6)\n",
    "\n",
    "    def fit_partial(self, epochs):\n",
    "        self.model.fit_partial(self.train, epochs=epochs, verbose=True)\n",
    "\n",
    "    def predict(self, X_test, path=None):\n",
    "        test_users_with_locations = X_test.merge(self.users, on='user_id')\n",
    "        def f(row):\n",
    "            user = self.user_ctoi[row['user_id']]\n",
    "            org_city = get_other_city(row['city'])\n",
    "            orgs_in_city = self.orgs_c[org_city]\n",
    "            res = self.model.predict(np.full(len(orgs_in_city), user), orgs_in_city)\n",
    "            ind = np.argpartition(res, -N)[-N:]\n",
    "            ind = np.vectorize(self.org_itoc.get)(orgs_in_city[np.flip(ind[np.argsort(res[ind])])])\n",
    "            return ind\n",
    "        target = test_users_with_locations.progress_apply(f, axis=1)\n",
    "        predictions = X_test.copy()\n",
    "        predictions['target'] = target\n",
    "        if path != None:\n",
    "            predictions_str = predictions.copy()\n",
    "            predictions_str['target'] = predictions_str['target'].apply(lambda x: ' '.join(map(str, x)))\n",
    "            predictions_str.to_csv(path, index=None)\n",
    "\n",
    "        return predictions"
   ]
  },
  {
   "cell_type": "code",
   "execution_count": 33,
   "metadata": {},
   "outputs": [],
   "source": [
    "lfm = BaseLightFMSolver(users, orgs)\n",
    "lfm.fit(train_reviews, min_pos_rating=0)"
   ]
  },
  {
   "cell_type": "code",
   "execution_count": 39,
   "metadata": {},
   "outputs": [],
   "source": [
    "lfm = BaseLightFMSolver(users, orgs)\n",
    "lfm.fit(train_reviews, min_pos_rating=5)"
   ]
  },
  {
   "cell_type": "code",
   "execution_count": 40,
   "metadata": {},
   "outputs": [
    {
     "name": "stderr",
     "output_type": "stream",
     "text": [
      "Epoch: 100%|██████████| 80/80 [13:28<00:00, 10.10s/it]\n"
     ]
    }
   ],
   "source": [
    "lfm.fit_partial(60)"
   ]
  },
  {
   "cell_type": "code",
   "execution_count": 41,
   "metadata": {},
   "outputs": [
    {
     "data": {
      "application/vnd.jupyter.widget-view+json": {
       "model_id": "c42522fa3400498a9c2be9f936ed07c3",
       "version_major": 2,
       "version_minor": 0
      },
      "text/plain": [
       "  0%|          | 0/16967 [00:00<?, ?it/s]"
      ]
     },
     "metadata": {},
     "output_type": "display_data"
    },
    {
     "data": {
      "text/html": [
       "<div>\n",
       "<style scoped>\n",
       "    .dataframe tbody tr th:only-of-type {\n",
       "        vertical-align: middle;\n",
       "    }\n",
       "\n",
       "    .dataframe tbody tr th {\n",
       "        vertical-align: top;\n",
       "    }\n",
       "\n",
       "    .dataframe thead th {\n",
       "        text-align: right;\n",
       "    }\n",
       "</style>\n",
       "<table border=\"1\" class=\"dataframe\">\n",
       "  <thead>\n",
       "    <tr style=\"text-align: right;\">\n",
       "      <th></th>\n",
       "      <th>user_id</th>\n",
       "      <th>target</th>\n",
       "    </tr>\n",
       "  </thead>\n",
       "  <tbody>\n",
       "    <tr>\n",
       "      <th>0</th>\n",
       "      <td>3545210947248911048</td>\n",
       "      <td>[12046097390037935713, 6838233943148091808, 50...</td>\n",
       "    </tr>\n",
       "    <tr>\n",
       "      <th>1</th>\n",
       "      <td>15271987121288045390</td>\n",
       "      <td>[6838233943148091808, 12046097390037935713, 50...</td>\n",
       "    </tr>\n",
       "    <tr>\n",
       "      <th>2</th>\n",
       "      <td>15016858616184265932</td>\n",
       "      <td>[12046097390037935713, 14814427257061788801, 5...</td>\n",
       "    </tr>\n",
       "    <tr>\n",
       "      <th>3</th>\n",
       "      <td>12457244142928722989</td>\n",
       "      <td>[12046097390037935713, 14814427257061788801, 5...</td>\n",
       "    </tr>\n",
       "    <tr>\n",
       "      <th>4</th>\n",
       "      <td>13339684649926251468</td>\n",
       "      <td>[15250345250621165867, 1625971115460696067, 91...</td>\n",
       "    </tr>\n",
       "    <tr>\n",
       "      <th>...</th>\n",
       "      <td>...</td>\n",
       "      <td>...</td>\n",
       "    </tr>\n",
       "    <tr>\n",
       "      <th>16962</th>\n",
       "      <td>1191875913294598364</td>\n",
       "      <td>[12046097390037935713, 8773822990269846303, 13...</td>\n",
       "    </tr>\n",
       "    <tr>\n",
       "      <th>16963</th>\n",
       "      <td>3866507700167344338</td>\n",
       "      <td>[12046097390037935713, 6838233943148091808, 15...</td>\n",
       "    </tr>\n",
       "    <tr>\n",
       "      <th>16964</th>\n",
       "      <td>11434952144484188987</td>\n",
       "      <td>[12046097390037935713, 5002407858008059043, 68...</td>\n",
       "    </tr>\n",
       "    <tr>\n",
       "      <th>16965</th>\n",
       "      <td>7010426792722803474</td>\n",
       "      <td>[11229813210509740706, 9104453017196776235, 15...</td>\n",
       "    </tr>\n",
       "    <tr>\n",
       "      <th>16966</th>\n",
       "      <td>10418580312382148954</td>\n",
       "      <td>[12046097390037935713, 14814427257061788801, 5...</td>\n",
       "    </tr>\n",
       "  </tbody>\n",
       "</table>\n",
       "<p>16967 rows × 2 columns</p>\n",
       "</div>"
      ],
      "text/plain": [
       "                    user_id                                             target\n",
       "0       3545210947248911048  [12046097390037935713, 6838233943148091808, 50...\n",
       "1      15271987121288045390  [6838233943148091808, 12046097390037935713, 50...\n",
       "2      15016858616184265932  [12046097390037935713, 14814427257061788801, 5...\n",
       "3      12457244142928722989  [12046097390037935713, 14814427257061788801, 5...\n",
       "4      13339684649926251468  [15250345250621165867, 1625971115460696067, 91...\n",
       "...                     ...                                                ...\n",
       "16962   1191875913294598364  [12046097390037935713, 8773822990269846303, 13...\n",
       "16963   3866507700167344338  [12046097390037935713, 6838233943148091808, 15...\n",
       "16964  11434952144484188987  [12046097390037935713, 5002407858008059043, 68...\n",
       "16965   7010426792722803474  [11229813210509740706, 9104453017196776235, 15...\n",
       "16966  10418580312382148954  [12046097390037935713, 14814427257061788801, 5...\n",
       "\n",
       "[16967 rows x 2 columns]"
      ]
     },
     "execution_count": 41,
     "metadata": {},
     "output_type": "execute_result"
    }
   ],
   "source": [
    "test_users = pd.read_csv('data/test_users.csv')\n",
    "lfm.predict(test_users, \"answers.csv\")"
   ]
  },
  {
   "cell_type": "code",
   "execution_count": null,
   "metadata": {},
   "outputs": [],
   "source": []
  }
 ],
 "metadata": {
  "interpreter": {
   "hash": "db971ff380b731045e1ce400ae72ff5111e81ffd3e9c4b9122002f711e089e2d"
  },
  "jupytercloud": {
   "vault": {
    "secrets": [
     {
      "name": "yt_secrets",
      "uuid": "sec-01fd5qjpw0xwwpv6t83wc41tp8"
     }
    ]
   }
  },
  "kernelspec": {
   "display_name": "Python 3.9.7 64-bit ('py_env': venv)",
   "name": "python3"
  },
  "language_info": {
   "codemirror_mode": {
    "name": "ipython",
    "version": 3
   },
   "file_extension": ".py",
   "mimetype": "text/x-python",
   "name": "python",
   "nbconvert_exporter": "python",
   "pygments_lexer": "ipython3",
   "version": "3.9.7"
  }
 },
 "nbformat": 4,
 "nbformat_minor": 5
}
